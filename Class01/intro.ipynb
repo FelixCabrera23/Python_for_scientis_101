{
 "cells": [
  {
   "cell_type": "code",
   "execution_count": 1,
   "id": "4a29ddc4-3458-46d3-93f9-ae5fa339ef06",
   "metadata": {},
   "outputs": [],
   "source": [
    "def convertion (degrees_celsius):\n",
    "    \"\"\"\n",
    "    This text is not going to be runed by python\n",
    "\n",
    "    This func does the convertion from celsius to farenheit\n",
    "    \"\"\"\n",
    "    return 9/5*degrees_celsius+32"
   ]
  },
  {
   "cell_type": "code",
   "execution_count": 2,
   "id": "c637fc24-3fe3-4e50-b0e9-3ffee0905d19",
   "metadata": {},
   "outputs": [
    {
     "data": {
      "text/plain": [
       "75.2"
      ]
     },
     "execution_count": 2,
     "metadata": {},
     "output_type": "execute_result"
    }
   ],
   "source": [
    "convertion(24)"
   ]
  },
  {
   "cell_type": "code",
   "execution_count": 3,
   "id": "4a390913-bc42-4a5d-b478-17d7c9c89772",
   "metadata": {},
   "outputs": [
    {
     "data": {
      "text/plain": [
       "84.2"
      ]
     },
     "execution_count": 3,
     "metadata": {},
     "output_type": "execute_result"
    }
   ],
   "source": [
    "convertion(29)"
   ]
  },
  {
   "cell_type": "code",
   "execution_count": 4,
   "id": "94fada7c-bc2e-4a0f-a263-6705888b28a2",
   "metadata": {},
   "outputs": [],
   "source": [
    "F = convertion(29)"
   ]
  },
  {
   "cell_type": "code",
   "execution_count": 5,
   "id": "356afd09-8568-4113-b425-3aac223f1d40",
   "metadata": {},
   "outputs": [
    {
     "data": {
      "text/plain": [
       "84.2"
      ]
     },
     "execution_count": 5,
     "metadata": {},
     "output_type": "execute_result"
    }
   ],
   "source": [
    "F"
   ]
  },
  {
   "cell_type": "code",
   "execution_count": 6,
   "id": "9de21673-eb25-4ff3-8dc2-dc4398f3301d",
   "metadata": {},
   "outputs": [
    {
     "data": {
      "text/plain": [
       "float"
      ]
     },
     "execution_count": 6,
     "metadata": {},
     "output_type": "execute_result"
    }
   ],
   "source": [
    "type(F)"
   ]
  },
  {
   "cell_type": "code",
   "execution_count": 7,
   "id": "cb5866b2-5fa6-4b1b-857b-9319ccfbf76d",
   "metadata": {},
   "outputs": [
    {
     "data": {
      "text/plain": [
       "bool"
      ]
     },
     "execution_count": 7,
     "metadata": {},
     "output_type": "execute_result"
    }
   ],
   "source": [
    "type(True)"
   ]
  },
  {
   "cell_type": "code",
   "execution_count": 8,
   "id": "bd67389a-d416-4566-b17b-6dce8be01391",
   "metadata": {},
   "outputs": [
    {
     "data": {
      "text/plain": [
       "range(0, 5)"
      ]
     },
     "execution_count": 8,
     "metadata": {},
     "output_type": "execute_result"
    }
   ],
   "source": [
    "range(5)"
   ]
  },
  {
   "cell_type": "code",
   "execution_count": 9,
   "id": "2b98dc1b-f864-49f8-97b8-022a84b38c7c",
   "metadata": {},
   "outputs": [
    {
     "name": "stdout",
     "output_type": "stream",
     "text": [
      "0\n",
      "1\n",
      "2\n",
      "3\n",
      "4\n"
     ]
    }
   ],
   "source": [
    "for i in range(5):\n",
    "    print(i)"
   ]
  },
  {
   "cell_type": "code",
   "execution_count": 12,
   "id": "014d1adc-131b-40d9-9369-a66dbd9ee9aa",
   "metadata": {},
   "outputs": [
    {
     "name": "stdout",
     "output_type": "stream",
     "text": [
      "0\n",
      "1\n",
      "2\n",
      "3\n",
      "4\n",
      "5\n"
     ]
    }
   ],
   "source": [
    "i = 0\n",
    "while i <= 5:\n",
    "    print(i)\n",
    "    i = i + 1"
   ]
  },
  {
   "cell_type": "code",
   "execution_count": null,
   "id": "d402003a-3c3d-4ee0-a206-6c6eaaaac336",
   "metadata": {},
   "outputs": [],
   "source": []
  }
 ],
 "metadata": {
  "kernelspec": {
   "display_name": "Python 3 (ipykernel)",
   "language": "python",
   "name": "python3"
  },
  "language_info": {
   "codemirror_mode": {
    "name": "ipython",
    "version": 3
   },
   "file_extension": ".py",
   "mimetype": "text/x-python",
   "name": "python",
   "nbconvert_exporter": "python",
   "pygments_lexer": "ipython3",
   "version": "3.12.3"
  }
 },
 "nbformat": 4,
 "nbformat_minor": 5
}
