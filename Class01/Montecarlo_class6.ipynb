{
 "cells": [
  {
   "cell_type": "markdown",
   "id": "308256f3-9456-4c0f-9cbe-e461915d1ccd",
   "metadata": {},
   "source": [
    "## Simulating reality vs evaluating integrals\n",
    "\n",
    "For several cases in physics, the different phenomena are modeled by complex equations and integrals. As we will see in this chapter, there are some times when there is no analytic solution, or it is cumbersome. In these cases, we propose a use of the Monte Carlo method that will simulate the phenomena directly and infer the results using statistics."
   ]
  }
 ],
 "metadata": {
  "kernelspec": {
   "display_name": "Python 3 (ipykernel)",
   "language": "python",
   "name": "python3"
  },
  "language_info": {
   "codemirror_mode": {
    "name": "ipython",
    "version": 3
   },
   "file_extension": ".py",
   "mimetype": "text/x-python",
   "name": "python",
   "nbconvert_exporter": "python",
   "pygments_lexer": "ipython3",
   "version": "3.12.3"
  }
 },
 "nbformat": 4,
 "nbformat_minor": 5
}
