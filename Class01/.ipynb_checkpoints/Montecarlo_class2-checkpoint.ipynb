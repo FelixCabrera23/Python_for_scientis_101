{
 "cells": [
  {
   "cell_type": "markdown",
   "id": "e13c0fc9-7f86-435a-ab41-e8252f0b253b",
   "metadata": {},
   "source": [
    "## Random Walks\n",
    "\n",
    "A random walk is a random process that describes a path that consist of a succession of random steps on some mathematical space. This may seem not interesting, but some processes in nature seem to follow random paths, for example we can think of the Brownian motion. Of course, we can simulate this with a Monte Carlo Simulation."
   ]
  },
  {
   "cell_type": "code",
   "execution_count": null,
   "id": "37904495-f119-43cc-b1d3-bc7f0c8fa44c",
   "metadata": {},
   "outputs": [],
   "source": [
    "# importing usefull libraries\n",
    "import numpy as np\n",
    "from numpy.random import rand\n",
    "import matplotlib.pyplot as plt\n",
    "import scipy.stats as stats"
   ]
  }
 ],
 "metadata": {
  "kernelspec": {
   "display_name": "Python 3 (ipykernel)",
   "language": "python",
   "name": "python3"
  },
  "language_info": {
   "codemirror_mode": {
    "name": "ipython",
    "version": 3
   },
   "file_extension": ".py",
   "mimetype": "text/x-python",
   "name": "python",
   "nbconvert_exporter": "python",
   "pygments_lexer": "ipython3",
   "version": "3.12.3"
  }
 },
 "nbformat": 4,
 "nbformat_minor": 5
}
