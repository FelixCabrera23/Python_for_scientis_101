{
 "cells": [
  {
   "cell_type": "code",
   "execution_count": 45,
   "id": "56bd3b42-c985-4fe2-8a76-c93c72b6fba2",
   "metadata": {},
   "outputs": [
    {
     "data": {
      "text/plain": [
       "2.73224043715847"
      ]
     },
     "execution_count": 45,
     "metadata": {},
     "output_type": "execute_result"
    }
   ],
   "source": [
    "import numpy as np\n",
    "from numpy.random import rand\n",
    "import matplotlib.pyplot as plt\n",
    "\n",
    "N = 1000\n",
    "\n",
    "bins = np.zeros(N)\n",
    "\n",
    "for i in range(N):\n",
    "    case = int(rand()*(N-1))\n",
    "    bins[case]+=1\n",
    "\n",
    "non = np.count_nonzero(bins)\n",
    "\n",
    "N/(N-non)"
   ]
  },
  {
   "cell_type": "code",
   "execution_count": 6,
   "id": "ff401877-c2e2-4c29-8702-f620109d802e",
   "metadata": {},
   "outputs": [
    {
     "data": {
      "text/plain": [
       "2.718281828459045"
      ]
     },
     "execution_count": 6,
     "metadata": {},
     "output_type": "execute_result"
    }
   ],
   "source": [
    "np.e"
   ]
  }
 ],
 "metadata": {
  "kernelspec": {
   "display_name": "Python 3 (ipykernel)",
   "language": "python",
   "name": "python3"
  },
  "language_info": {
   "codemirror_mode": {
    "name": "ipython",
    "version": 3
   },
   "file_extension": ".py",
   "mimetype": "text/x-python",
   "name": "python",
   "nbconvert_exporter": "python",
   "pygments_lexer": "ipython3",
   "version": "3.12.3"
  }
 },
 "nbformat": 4,
 "nbformat_minor": 5
}
